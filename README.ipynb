{
 "cells": [
  {
   "cell_type": "markdown",
   "metadata": {
    "collapsed": true
   },
   "source": [
    "## Welcome\n",
    "\n",
    "Welcome to the Jupyter Notebooks in TAP.  \n",
    "\n",
    "If you are new to Jupyter we recommend starting with \"Help -> User Interface Tour\"\n",
    "\n",
    "Under the [examples](/tree/examples) folder you'll find some example notebooks for working with different libraries:\n",
    "\n",
    "- [ATK](/tree/examples/atk)\n",
    "- [Spark](/tree/examples/spark)\n",
    "- [Pandas](/tree/examples/pandas-cookbook)\n",
    "\n",
    "Visit the [TAP Community](https://community.trustedanalytics.org/) to access forums and get help.\n",
    "\n",
    "\n",
    "## Installing Packages with Conda\n",
    "\n",
    "Many python packages come pre-installed but if you need to install additional packages click \"Jupyter\" above and then choose \"New -> Terminal\"\n",
    "\n",
    "Within the Terminal window you can use conda at the command line to install python packages\n",
    "\n",
    "[Conda Documentation](http://conda.pydata.org/docs/using/index.html)\n",
    "\n",
    "Pip is also available for packages not available via conda.\n",
    "\n",
    "\n",
    "## TAP Menu\n",
    "\n",
    "On the right side of the tool bar you can find the **\"TAP Help\"** menu. There you can find all the links and code snippets provided here for a quick and easy reference.\n",
    "\n"
   ]
  },
  {
   "cell_type": "code",
   "execution_count": null,
   "metadata": {
    "collapsed": true
   },
   "outputs": [],
   "source": []
  }
 ],
 "metadata": {
  "kernelspec": {
   "display_name": "Python 2",
   "language": "python",
   "name": "python2"
  },
  "language_info": {
   "codemirror_mode": {
    "name": "ipython",
    "version": 2
   },
   "file_extension": ".py",
   "mimetype": "text/x-python",
   "name": "python",
   "nbconvert_exporter": "python",
   "pygments_lexer": "ipython2",
   "version": "2.7.11"
  }
 },
 "nbformat": 4,
 "nbformat_minor": 0
}
