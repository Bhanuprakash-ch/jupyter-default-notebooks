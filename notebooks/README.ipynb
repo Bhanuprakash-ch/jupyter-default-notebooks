{
 "cells": [
  {
   "cell_type": "markdown",
   "metadata": {
    "collapsed": true
   },
   "source": [
    "<div style=\"height: 79px; margin-right: 110px;\"><img src=\"/static/base/images/TAP-logo.png\" align=\"center\" /></div>\n",
    "\n",
    "## Welcome\n",
    "\n",
    "Welcome to the Jupyter Notebooks in TAP.  \n",
    "\n",
    "If you are new to Jupyter we recommend starting with \"Help -> User Interface Tour\".\n",
    "\n",
    "Under the [examples](/tree/examples) folder you'll find some example notebooks for working with different libraries:\n",
    "\n",
    "- [ATK](/tree/examples/atk)\n",
    "- [Spark](/tree/examples/spark)\n",
    "- [Pandas](/tree/examples/pandas-cookbook)\n",
    "\n",
    "Visit the [TAP Community](https://community.trustedanalytics.org/) to access forums and get help.\n",
    "\n",
    "\n",
    "## Help Menus\n",
    "\n",
    "On the right side of the tool bar you can find the **Help** and **TAP Help** menus. Under the **Help** menu is general documentation for Jupyter, Python, and libraries like pandas. Learn about keyboard shortcuts for Jupyter under \"Help -> Keyboard Shortcuts\". Under the **TAP Help** menu there is TAP specific help and code snippets for quick and easy reference.\n",
    "\n",
    "## Learning Python\n",
    "\n",
    "If you are new to Python consider starting with the [Hitchhiker's Guide to Python](http://docs.python-guide.org/en/latest/intro/learning/) which lists many resources for learning Python.\n",
    "\n",
    "## Installing Python Packages with Conda\n",
    "\n",
    "Many python packages come pre-installed (pandas, scikit-learn, matplotlib, numpy) but if you need to install additional packages go to the [Jupyter dashboard](/tree) and then choose \"New -> Terminal\".\n",
    "\n",
    "Within the Terminal window you can use conda at the command line to install python packages.\n",
    "\n",
    "```bash\n",
    "# list all packages installed\n",
    "conda list\n",
    "# search for a package by name\n",
    "conda search pandas\n",
    "# install a package by name\n",
    "conda install pandas\n",
    "# get help\n",
    "conda --help\n",
    "```\n",
    "\n",
    "You can also access conda directly in a notebook by prefixing your command with an exclamation point:"
   ]
  },
  {
   "cell_type": "code",
   "execution_count": null,
   "metadata": {
    "collapsed": false
   },
   "outputs": [],
   "source": [
    "# list all packages installed\n",
    "!conda list"
   ]
  },
  {
   "cell_type": "markdown",
   "metadata": {
    "collapsed": true
   },
   "source": [
    "See the [Conda Documentation](http://conda.pydata.org/docs/using/index.html) for more information.\n",
    "\n",
    "[Pip](https://pip.pypa.io/en/stable/) is also available for packages not available via conda.\n",
    "\n",
    "## Troubleshooting\n",
    "\n",
    "If your notebook stops working in an unexpected way try:\n",
    "- Restarting the kernel: choose the menu item \"Kernel -> Restart\".\n",
    "- Shutting down your notebook and reopening it: visit the [Jupyter dashboard](/tree), choose \"Running\" tab, and click the \"Shutdown\" button.\n",
    "- Reaching out for help on the [TAP Community](https://community.trustedanalytics.org/)\n",
    "\n",
    "## Links\n",
    "\n",
    "- [TrustedAnalytics.org](http://trustedanalytics.org/) - the main website for TAP\n",
    "- [TAP Community](https://community.trustedanalytics.org/) - forums and community help\n",
    "- [TAP Github](https://github.com/trustedanalytics) - source code for TAP\n",
    "- [TAP JIRA](https://trustedanalytics.atlassian.net/) - tracking system for bugs and features\n",
    "- [ATK](http://trustedanalytics.github.io/atk/) - the TAP Analytics Toolkit documentation\n",
    "- [Jupyter](http://jupyter.org/) - project website\n",
    "- [Spark](http://spark.apache.org/) - project website\n",
    "- [Notebook Viewer](https://nbviewer.jupyter.org/) - a website for sharing Jupyter notebooks, many good examples are available"
   ]
  },
  {
   "cell_type": "code",
   "execution_count": null,
   "metadata": {
    "collapsed": true
   },
   "outputs": [],
   "source": []
  }
 ],
 "metadata": {
  "kernelspec": {
   "display_name": "Python 2",
   "language": "python",
   "name": "python2"
  },
  "language_info": {
   "codemirror_mode": {
    "name": "ipython",
    "version": 2
   },
   "file_extension": ".py",
   "mimetype": "text/x-python",
   "name": "python",
   "nbconvert_exporter": "python",
   "pygments_lexer": "ipython2",
   "version": "2.7.11"
  }
 },
 "nbformat": 4,
 "nbformat_minor": 0
}
