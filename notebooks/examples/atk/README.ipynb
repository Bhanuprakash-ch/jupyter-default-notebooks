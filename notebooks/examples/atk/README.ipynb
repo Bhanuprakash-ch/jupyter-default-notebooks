{
 "cells": [
  {
   "cell_type": "markdown",
   "metadata": {},
   "source": [
    "## ATK Client Help\n",
    "\n",
    "Helpfull links\n",
    "- [ATK Client documentation](http://trustedanalytics.github.io/atk/) if you ever need help.\n",
    "- [ATK git repo](https://github.com/trustedanalytics/atk)\n",
    "- [ATK pypi packages](https://pypi.python.org/pypi/trustedanalytics)\n",
    "- [TAP jira](https://trustedanalytics.atlassian.net) if you have bugs to file.\n",
    "- [TAP](http://trustedanalytics.org)\n",
    "\n",
    "\n",
    "## TAP Menu\n",
    "\n",
    "On the right side of the tool bar you can find the **\"TAP Help\"** menu. There you can find all the links and code snippets provided here for a quick and easy reference."
   ]
  },
  {
   "cell_type": "markdown",
   "metadata": {
    "collapsed": true
   },
   "source": [
    "## Installing\n",
    "\n",
    "To install the client issue a pip install command with the **\"trustedanalytics\"** package name."
   ]
  },
  {
   "cell_type": "code",
   "execution_count": null,
   "metadata": {
    "collapsed": false
   },
   "outputs": [],
   "source": [
    "!pip install trustedanalytics "
   ]
  },
  {
   "cell_type": "markdown",
   "metadata": {},
   "source": [
    "## Installing specific version\n",
    "\n",
    "\n",
    "If you need to install a specific version of the client append **==** plus the client version to **trustedanalytics** package name."
   ]
  },
  {
   "cell_type": "code",
   "execution_count": null,
   "metadata": {
    "collapsed": false,
    "scrolled": true
   },
   "outputs": [],
   "source": [
    "!pip install trustedanalytics==0.4.1.post201509248706"
   ]
  },
  {
   "cell_type": "markdown",
   "metadata": {},
   "source": [
    "## Installing from ATK server\n",
    "\n",
    "If you don't happen to know the version you need you can also install the client directly from the ATK server as long as you know the URL."
   ]
  },
  {
   "cell_type": "code",
   "execution_count": null,
   "metadata": {
    "collapsed": false
   },
   "outputs": [],
   "source": [
    "#Replace YOUR_ATK_SERVER_URL with the URL to your ATK server instance. \n",
    "!pip install YOUR_ATK_SERVER_URL/client"
   ]
  },
  {
   "cell_type": "markdown",
   "metadata": {},
   "source": [
    " ## Connecting \n",
    " \n",
    " Before using the client you must create a credentials file to authenticate with the ATK server."
   ]
  },
  {
   "cell_type": "code",
   "execution_count": null,
   "metadata": {
    "collapsed": true
   },
   "outputs": [],
   "source": [
    "import trustedanalytics as atk\n",
    "\n",
    "print \"ATK installation path = %s\" % (atk.__path__) \n",
    "\n",
    "#You will need your server URI to create the credentials file.\n",
    "#Don't include the protocol when assigning to atk.server.uri.\n",
    "#    incorrect atk.server.uri = 'http://my-server.some.domain.com'\n",
    "#    correct atk.server.uri = 'my-server.some.domain.com'\n",
    "atk.server.uri = 'YOUR_ATK_SERVER_URI' \n",
    "\n",
    "#The file name passed to create_credentails_file() can be anything you like\n",
    "#     but you must use the same name when executing atk.connect.\n",
    "atk.create_credentials_file('ATK.creds')\n",
    "\n",
    "#After creating the credentials file we can connect to the ATK server.\n",
    "atk.connect(r'/ATK.creds')"
   ]
  }
 ],
 "metadata": {
  "kernelspec": {
   "display_name": "Python 2",
   "language": "python",
   "name": "python2"
  },
  "language_info": {
   "codemirror_mode": {
    "name": "ipython",
    "version": 2
   },
   "file_extension": ".py",
   "mimetype": "text/x-python",
   "name": "python",
   "nbconvert_exporter": "python",
   "pygments_lexer": "ipython2",
   "version": "2.7.6"
  }
 },
 "nbformat": 4,
 "nbformat_minor": 0
}
