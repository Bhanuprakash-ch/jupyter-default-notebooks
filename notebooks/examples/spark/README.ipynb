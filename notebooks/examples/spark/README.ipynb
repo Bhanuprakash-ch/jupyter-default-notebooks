{
 "cells": [
  {
   "cell_type": "markdown",
   "metadata": {},
   "source": [
    "# Spark README\n",
    "\n",
    "This notebook shows how to run Spark in both local and yarn-client modes within TAP.\n",
    "\n",
    "Several [Spark examples](/tree/examples/spark) are included with TAP.\n",
    "\n",
    "More examples are available on the Spark website: http://spark.apache.org/examples.html\n",
    "\n",
    "PySpark API documentation: http://spark.apache.org/docs/latest/api/python/"
   ]
  },
  {
   "cell_type": "markdown",
   "metadata": {},
   "source": [
    "## Create a SparkContext in local mode\n",
    "\n",
    "In local mode no cluster resources are used.  It is easy to setup and is good for small scale testing."
   ]
  },
  {
   "cell_type": "code",
   "execution_count": null,
   "metadata": {
    "collapsed": true
   },
   "outputs": [],
   "source": [
    "import pyspark\n",
    "\n",
    "# Create a SparkContext in local mode\n",
    "sc = pyspark.SparkContext(\"local\")"
   ]
  },
  {
   "cell_type": "code",
   "execution_count": null,
   "metadata": {
    "collapsed": false
   },
   "outputs": [],
   "source": [
    "# Test the context is working by creating an RDD and performing a simple operation\n",
    "rdd = sc.parallelize(range(10))\n",
    "print rdd.count()"
   ]
  },
  {
   "cell_type": "code",
   "execution_count": null,
   "metadata": {
    "collapsed": false
   },
   "outputs": [],
   "source": [
    "# Find out ore information about your SparkContext\n",
    "print 'Python Version: ' + sc.pythonVer\n",
    "print 'Spark Version: ' + sc.version\n",
    "print 'Spark Master: ' + sc.master\n",
    "print 'Spark Home: ' + str(sc.sparkHome)\n",
    "print 'Spark User: ' + str(sc.sparkUser())\n",
    "print 'Application Name: ' + sc.appName\n",
    "print 'Application Id: ' + sc.applicationId"
   ]
  },
  {
   "cell_type": "code",
   "execution_count": null,
   "metadata": {
    "collapsed": true
   },
   "outputs": [],
   "source": [
    "# Stop the context when you are done with it. When you stop the SparkContext resources \n",
    "# are released and no further operations can be performed within that context.\n",
    "sc.stop()"
   ]
  },
  {
   "cell_type": "markdown",
   "metadata": {},
   "source": [
    "## Create a SparkContext in yarn-client mode\n",
    "\n",
    "In yarn-client mode, a Spark job is launched in the cluster.  This is needed to work with big data."
   ]
  },
  {
   "cell_type": "code",
   "execution_count": null,
   "metadata": {
    "collapsed": false
   },
   "outputs": [],
   "source": [
    "import pyspark\n",
    "\n",
    "# create a configuration\n",
    "conf = pyspark.SparkConf()\n",
    "\n",
    "# set the master to \"yarn-client\"\n",
    "conf.setMaster(\"yarn-client\")\n",
    "\n",
    "# set other options as desired\n",
    "conf.set(\"spark.driver.memory\", \"512mb\")\n",
    "conf.set(\"spark.executor.memory\", \"1g\")\n",
    "\n",
    "# create the context\n",
    "sc = pyspark.SparkContext(conf=conf)\n"
   ]
  },
  {
   "cell_type": "code",
   "execution_count": null,
   "metadata": {
    "collapsed": true
   },
   "outputs": [],
   "source": [
    "# Test the context is working by creating an RDD and performing a simple operation\n",
    "rdd = sc.parallelize(range(10))\n",
    "print rdd.count()"
   ]
  },
  {
   "cell_type": "code",
   "execution_count": null,
   "metadata": {
    "collapsed": true
   },
   "outputs": [],
   "source": [
    "# Find out ore information about your SparkContext\n",
    "print 'Python Version: ' + sc.pythonVer\n",
    "print 'Spark Version: ' + sc.version\n",
    "print 'Spark Master: ' + sc.master\n",
    "print 'Spark Home: ' + str(sc.sparkHome)\n",
    "print 'Spark User: ' + str(sc.sparkUser())\n",
    "print 'Application Name: ' + sc.appName\n",
    "print 'Application Id: ' + sc.applicationId"
   ]
  },
  {
   "cell_type": "code",
   "execution_count": null,
   "metadata": {
    "collapsed": true
   },
   "outputs": [],
   "source": [
    "# Stop the context when you are done with it. When you stop the SparkContext resources \n",
    "# are released and no further operations can be performed within that context.\n",
    "sc.stop()"
   ]
  },
  {
   "cell_type": "markdown",
   "metadata": {
    "collapsed": true
   },
   "source": [
    "## Using Spark Submit\n",
    "\n",
    "It is possible to upload jars via Jupyter and use Spark Submit to run them."
   ]
  },
  {
   "cell_type": "code",
   "execution_count": null,
   "metadata": {
    "collapsed": false
   },
   "outputs": [],
   "source": [
    "# Call spark-submit to run the SparkPi example that ships with Spark.\n",
    "# We didn't need to upload this jar because it is already loaded on the system.\n",
    "!spark-submit --class org.apache.spark.examples.SparkPi \\\n",
    "    --master local \\\n",
    "    /usr/local/spark/lib/spark-examples-*.jar \\\n",
    "    10"
   ]
  },
  {
   "cell_type": "markdown",
   "metadata": {},
   "source": [
    "Alternatively, you can access the [Jupyter dashboard](/tree) and then choose \"New -> Terminal\" to run spark-submit at the command line."
   ]
  },
  {
   "cell_type": "code",
   "execution_count": null,
   "metadata": {
    "collapsed": true
   },
   "outputs": [],
   "source": []
  }
 ],
 "metadata": {
  "kernelspec": {
   "display_name": "Python 2",
   "language": "python",
   "name": "python2"
  },
  "language_info": {
   "codemirror_mode": {
    "name": "ipython",
    "version": 2
   },
   "file_extension": ".py",
   "mimetype": "text/x-python",
   "name": "python",
   "nbconvert_exporter": "python",
   "pygments_lexer": "ipython2",
   "version": "2.7.11"
  }
 },
 "nbformat": 4,
 "nbformat_minor": 0
}
